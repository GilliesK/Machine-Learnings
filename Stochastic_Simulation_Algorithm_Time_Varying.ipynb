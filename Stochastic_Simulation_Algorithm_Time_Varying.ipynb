{
  "nbformat": 4,
  "nbformat_minor": 0,
  "metadata": {
    "colab": {
      "name": "Stochastic Simulation Algorithm Time Varying.ipynb",
      "provenance": [],
      "collapsed_sections": [],
      "include_colab_link": true
    },
    "kernelspec": {
      "name": "python3",
      "display_name": "Python 3"
    },
    "language_info": {
      "name": "python"
    }
  },
  "cells": [
    {
      "cell_type": "markdown",
      "metadata": {
        "id": "view-in-github",
        "colab_type": "text"
      },
      "source": [
        "<a href=\"https://colab.research.google.com/github/GilliesK/Deleuze-bank/blob/master/Stochastic_Simulation_Algorithm_Time_Varying.ipynb\" target=\"_parent\"><img src=\"https://colab.research.google.com/assets/colab-badge.svg\" alt=\"Open In Colab\"/></a>"
      ]
    },
    {
      "cell_type": "code",
      "metadata": {
        "id": "QkGGF0biQjxn"
      },
      "source": [
        "import numpy as np\n",
        "import matplotlib.pyplot as plt\n",
        "\n",
        "# Vector of Times\n",
        "t = np.linspace(0, 100, 101) \n",
        "\n",
        "\n",
        "k_m = 10\n",
        "g_m = 1\n",
        "\n",
        "a = 1\n",
        "b = 2 \n",
        "c = 30\n",
        "\n",
        "# Vector of Initial Conditions (OFF,ON,R)\n",
        "X = np.array([0], dtype=int)   # OFF = X[0], ON = X[1], R = X[2]  \n",
        "\n",
        "# Stoichiometry Matrix -- must be transposed (flipped) \n",
        "# Species:    OFF,ON,mRNA\n",
        "\n",
        "S = np.array([[1],\n",
        "              [-1] \n",
        "              ])\n",
        "\n",
        "\n",
        "# Propensity Functions (anonymous function)\n",
        "WB = lambda X,t: np.array([[k_m],  \n",
        "              [g_m*X[0] / (a+b*(t>c))]]).T        \n",
        "\n",
        "\n",
        "# Propensity Functions (anonymous function)\n",
        "WA = lambda X,t: np.array([[k_m*(a+b*(t>c))],  \n",
        "              [g_m*X[0]]]).T   "
      ],
      "execution_count": 1,
      "outputs": []
    },
    {
      "cell_type": "code",
      "metadata": {
        "id": "j1KBSio4Zdry"
      },
      "source": [
        "\n",
        "# Function to randomly determine next time and next state using random number generation\n",
        "# based on the current propensities (exponential waiting time)\n",
        "def next_jump(W,t,X):\n",
        "  current_propensities = W(X,t)\n",
        "  mod_prop = np.zeros((1,current_propensities.shape[1]+1))\n",
        "  mod_prop[0,1:] = current_propensities\n",
        "  mod_prop[0,0] = np.max(current_propensities)\n",
        "  current_propensities = mod_prop\n",
        "  total_reactions =current_propensities.shape[1]  # Get total number of reactions\n",
        "  \n",
        "  # Update time of next reaction (where tau = 1/w0*log(1/rand)\n",
        "  time_next_rxn = -np.log(np.random.rand()) / np.sum(current_propensities)\n",
        "\n",
        "  # Generate random number to select the new reaction to happen based on current state\n",
        "  random_rate = np.random.rand() * np.sum(current_propensities)\n",
        "\n",
        "  # Select the new reaction to happen based on current state\n",
        "  cumulative_prop = np.cumsum(current_propensities)\n",
        "  for i in range(total_reactions):\n",
        "    if cumulative_prop[i] >= random_rate:\n",
        "      rxn_id = i\n",
        "      break\n",
        "  return time_next_rxn,rxn_id  ##Return these back out\n",
        "\n",
        "def SSA_traj(S, W, x0, time_vector):\n",
        "    total_states = S.shape[0]     # Get total states (number of species)\n",
        "    # now, make a null reaction and append it to the stoich matrix\n",
        "    S = np.vstack([np.zeros(S.shape[1]), S])\n",
        "    x = x0  # Set the state to initial state\n",
        "    t = time_vector[0]  # Initial time - 1st time in time_vector\n",
        "    tstop = time_vector[-1]  # Stop time - Last time in time_vector\n",
        "    record_index = 0  # Initialize counter\n",
        "    Nt = len(time_vector)  # Total number of time points\n",
        "    traj_data = np.zeros((total_states, Nt)) # Preallocate for efficiency\n",
        "\n",
        "    while t < tstop:  # While time is less than last time point\n",
        "  \n",
        "        time_next_rxn,rxn_id = next_jump(W,t,x)  # Run function to get next time and next reaction\n",
        "        t += time_next_rxn\n",
        "\n",
        "        while t >= time_vector[record_index]:  # If time passed the record vector, record the state\n",
        "            traj_data[:, record_index] = x\n",
        "            record_index += 1   # Update the counter\n",
        "            if time_vector[record_index] == tstop:  # If counter has moved past the final time point, end and return the data\n",
        "                traj_data[:, record_index] = x\n",
        "                return traj_data\n",
        "\n",
        "        x = x + S[rxn_id, :]  # Update the state based on last reaction\n"
      ],
      "execution_count": 2,
      "outputs": []
    },
    {
      "cell_type": "code",
      "source": [
        "traj_data = SSA_traj(S, WA, X, t)"
      ],
      "metadata": {
        "id": "24REBDFJ1bKd"
      },
      "execution_count": 3,
      "outputs": []
    },
    {
      "cell_type": "code",
      "source": [
        "f,ax = plt.subplots()\n",
        "\n",
        "ax.plot(traj_data.T)"
      ],
      "metadata": {
        "colab": {
          "base_uri": "https://localhost:8080/",
          "height": 299
        },
        "id": "GViGJU3-57xX",
        "outputId": "d2040789-c1f7-4262-f293-760fe4d744de"
      },
      "execution_count": 4,
      "outputs": [
        {
          "output_type": "execute_result",
          "data": {
            "text/plain": [
              "[<matplotlib.lines.Line2D at 0x7f3326f91090>,\n",
              " <matplotlib.lines.Line2D at 0x7f3326f912d0>]"
            ]
          },
          "metadata": {},
          "execution_count": 4
        },
        {
          "output_type": "display_data",
          "data": {
            "text/plain": [
              "<Figure size 432x288 with 1 Axes>"
            ],
            "image/png": "[encoded data removed]"
          },
          "metadata": {
            "needs_background": "light"
          }
        }
      ]
    }
  ]
}