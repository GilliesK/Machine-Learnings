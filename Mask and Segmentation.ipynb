{
  "nbformat": 4,
  "nbformat_minor": 0,
  "metadata": {
    "colab": {
      "name": "Just in Case Team2_2ndJune.ipynb",
      "provenance": [],
      "collapsed_sections": [],
      "include_colab_link": true
    },
    "kernelspec": {
      "name": "python3",
      "display_name": "Python 3"
    },
    "language_info": {
      "name": "python"
    }
  },
  "cells": [
    {
      "cell_type": "markdown",
      "metadata": {
        "id": "view-in-github",
        "colab_type": "text"
      },
      "source": [
        "<a href=\"https://colab.research.google.com/github/GilliesK/Deleuze-bank/blob/master/Mask%20and%20Segmentation.ipynb\" target=\"_parent\"><img src=\"https://colab.research.google.com/assets/colab-badge.svg\" alt=\"Open In Colab\"/></a>"
      ]
    },
    {
      "cell_type": "code",
      "execution_count": null,
      "metadata": {
        "id": "BFf0b1FgzPAB"
      },
      "outputs": [],
      "source": [
        "#TASKS:\n",
        "# 1.\tTake a team video\n",
        "# 2.\tSegment out the people\n",
        "# 3.\tTake Linda’s or Ning’s videos and segment a cell over time\n",
        "# 4.\tThen interpose your image or video inside the cell\n",
        "# 5.\tTake one person and have them walk around the cell\n"
      ]
    },
    {
      "cell_type": "code",
      "source": [
        "%%capture\n",
        "# Loading libraries\n",
        "import random                        # Library to generate random numbers\n",
        "import skimage                       # Library for image manipulation\n",
        "import numpy as np                   # Library for array manipulation\n",
        "import urllib.request                # Library to download data\n",
        "import matplotlib.pyplot as plt      # Library used for plotting\n",
        "from skimage import io               # Module from skimage\n",
        "from skimage.io import imread        # Module from skimage to read images as numpy arrays\n",
        "from skimage.filters import gaussian # Module working with a gaussian filter\n",
        "from skimage import measure\n",
        "from scipy import ndimage as ndi              # Distance Transform\n",
        "from skimage.feature import peak_local_max    # Local maxima in a matrix\n",
        "from skimage.segmentation import watershed    # Watershed algorithm\n",
        "from skimage.draw import polygon\n",
        "\n",
        "from skimage.morphology import binary_dilation, watershed\n",
        "from skimage import measure\n",
        "from skimage.morphology import binary_dilation, watershed\n",
        "from skimage.draw import polygon\n",
        "\n",
        "%matplotlib inline\n",
        "\n",
        "%matplotlib inline\n",
        "\n",
        "%cd gdrive/MyDrive/\n",
        "! pip install scikit-video\n",
        "\n",
        "import skvideo.io"
      ],
      "metadata": {
        "id": "mPivsWPd4Rxh"
      },
      "execution_count": null,
      "outputs": []
    },
    {
      "cell_type": "markdown",
      "source": [
        "# New Section"
      ],
      "metadata": {
        "id": "-kWRA6wPHubF"
      }
    },
    {
      "cell_type": "code",
      "source": [
        "fName = './segmentation_video.mp4'  \n",
        "vid = skvideo.io.vread(fName)  \n",
        "\n",
        "ALL_LABELS=[]\n",
        "\n",
        "for t in range(vid.shape[0]):\n",
        "  img = vid[t,:,:,0]\n",
        "\n",
        "  # Thresholding the image\n",
        "  threshold = 90   # Please play  with this threshold\n",
        "  mask_image = np.zeros(img.shape)\n",
        "  mask_image[img>threshold] = 255\n",
        "\n",
        "  # Applying a gaussian filter to the image\n",
        "  new_mask = gaussian(mask_image, sigma=12) \n",
        "\n",
        "  contours = measure.find_contours(new_mask, level=250) # level is half of 255 (ish). What happens if we change it?\n",
        "  \n",
        "  #contours_input = \n",
        "  contours_connected = np.vstack((sorted(contours, key=len, reverse=True)[0:3]))\n",
        "\n",
        "  watershed_starting_mask = np.zeros(img.shape).astype(int)                    # Prealocating an array with zeros. Notice the datatype.\n",
        "  rr, cc = polygon(contours_connected[:,0], contours_connected[:,1])   # Returns the coordinates inside the contour\n",
        "  watershed_starting_mask[rr,cc] = 1      \n",
        "  \n",
        "    # Apply watershed\n",
        "  distance = ndi.distance_transform_edt(watershed_starting_mask)                       # Computes the Distance Transform distance in the image\n",
        "  coords = peak_local_max(distance, min_distance=120, labels=watershed_starting_mask)   # Use the Distance transform image to find local maxima\n",
        "  _,inds = np.unique(distance[coords[:,0],coords[:,1]],return_index=True)      # Make sure they are unique\n",
        "  coords = coords[inds,:]                                                      # Selecting unique indexes\n",
        "  mask = np.zeros(distance.shape, dtype=bool)                                  # Prealocating an array with zeros\n",
        "  mask[tuple(coords.T)] = True                                                 # Make an image with 1's where local maxima are\n",
        "  markers, _ = ndi.label(mask)                                                 # Unique values used as the desired labels\n",
        "\n",
        "  # Using the watershed algorithm\n",
        "  labels = watershed(-distance, markers, mask=watershed_starting_mask, watershed_line=True)                                      # Replacing all values inside the contour with ones.\n",
        "\n",
        "  ALL_LABELS.append(labels)\n",
        "\n",
        "    # Plotting the results\n",
        "\n",
        "  if t==0:\n",
        "    IMG=img\n",
        "    WSM=watershed_starting_mask\n",
        "    third=ndi.distance_transform_edt(watershed_starting_mask)\n",
        "    four_x=coords[:,1]\n",
        "    four_y=coords[:,0]\n",
        "    LABELS=labels\n"
      ],
      "metadata": {
        "id": "1VkfMoJwH5Kn",
        "colab": {
          "base_uri": "https://localhost:8080/",
          "height": 392
        },
        "outputId": "6f26fcc0-3025-44c6-e5c0-cdc2d9d67b9a"
      },
      "execution_count": null,
      "outputs": [
        {
          "output_type": "error",
          "ename": "FileNotFoundError",
          "evalue": "ignored",
          "traceback": [
            "\u001b[0;31m---------------------------------------------------------------------------\u001b[0m",
            "\u001b[0;31mFileNotFoundError\u001b[0m                         Traceback (most recent call last)",
            "\u001b[0;32m<ipython-input-5-078830f52b34>\u001b[0m in \u001b[0;36m<module>\u001b[0;34m()\u001b[0m\n\u001b[1;32m      1\u001b[0m \u001b[0mfName\u001b[0m \u001b[0;34m=\u001b[0m \u001b[0;34m'./segmentation_video.mp4'\u001b[0m\u001b[0;34m\u001b[0m\u001b[0;34m\u001b[0m\u001b[0m\n\u001b[0;32m----> 2\u001b[0;31m \u001b[0mvid\u001b[0m \u001b[0;34m=\u001b[0m \u001b[0mskvideo\u001b[0m\u001b[0;34m.\u001b[0m\u001b[0mio\u001b[0m\u001b[0;34m.\u001b[0m\u001b[0mvread\u001b[0m\u001b[0;34m(\u001b[0m\u001b[0mfName\u001b[0m\u001b[0;34m)\u001b[0m\u001b[0;34m\u001b[0m\u001b[0;34m\u001b[0m\u001b[0m\n\u001b[0m\u001b[1;32m      3\u001b[0m \u001b[0;34m\u001b[0m\u001b[0m\n\u001b[1;32m      4\u001b[0m \u001b[0mALL_LABELS\u001b[0m\u001b[0;34m=\u001b[0m\u001b[0;34m[\u001b[0m\u001b[0;34m]\u001b[0m\u001b[0;34m\u001b[0m\u001b[0;34m\u001b[0m\u001b[0m\n\u001b[1;32m      5\u001b[0m \u001b[0;34m\u001b[0m\u001b[0m\n",
            "\u001b[0;32m/usr/local/lib/python3.7/dist-packages/skvideo/io/io.py\u001b[0m in \u001b[0;36mvread\u001b[0;34m(fname, height, width, num_frames, as_grey, inputdict, outputdict, backend, verbosity)\u001b[0m\n\u001b[1;32m    142\u001b[0m             \u001b[0moutputdict\u001b[0m\u001b[0;34m[\u001b[0m\u001b[0;34m'-pix_fmt'\u001b[0m\u001b[0;34m]\u001b[0m \u001b[0;34m=\u001b[0m \u001b[0;34m'gray'\u001b[0m\u001b[0;34m\u001b[0m\u001b[0;34m\u001b[0m\u001b[0m\n\u001b[1;32m    143\u001b[0m \u001b[0;34m\u001b[0m\u001b[0m\n\u001b[0;32m--> 144\u001b[0;31m         \u001b[0mreader\u001b[0m \u001b[0;34m=\u001b[0m \u001b[0mFFmpegReader\u001b[0m\u001b[0;34m(\u001b[0m\u001b[0mfname\u001b[0m\u001b[0;34m,\u001b[0m \u001b[0minputdict\u001b[0m\u001b[0;34m=\u001b[0m\u001b[0minputdict\u001b[0m\u001b[0;34m,\u001b[0m \u001b[0moutputdict\u001b[0m\u001b[0;34m=\u001b[0m\u001b[0moutputdict\u001b[0m\u001b[0;34m,\u001b[0m \u001b[0mverbosity\u001b[0m\u001b[0;34m=\u001b[0m\u001b[0mverbosity\u001b[0m\u001b[0;34m)\u001b[0m\u001b[0;34m\u001b[0m\u001b[0;34m\u001b[0m\u001b[0m\n\u001b[0m\u001b[1;32m    145\u001b[0m         \u001b[0mT\u001b[0m\u001b[0;34m,\u001b[0m \u001b[0mM\u001b[0m\u001b[0;34m,\u001b[0m \u001b[0mN\u001b[0m\u001b[0;34m,\u001b[0m \u001b[0mC\u001b[0m \u001b[0;34m=\u001b[0m \u001b[0mreader\u001b[0m\u001b[0;34m.\u001b[0m\u001b[0mgetShape\u001b[0m\u001b[0;34m(\u001b[0m\u001b[0;34m)\u001b[0m\u001b[0;34m\u001b[0m\u001b[0;34m\u001b[0m\u001b[0m\n\u001b[1;32m    146\u001b[0m \u001b[0;34m\u001b[0m\u001b[0m\n",
            "\u001b[0;32m/usr/local/lib/python3.7/dist-packages/skvideo/io/ffmpeg.py\u001b[0m in \u001b[0;36m__init__\u001b[0;34m(self, *args, **kwargs)\u001b[0m\n\u001b[1;32m     42\u001b[0m     \u001b[0;32mdef\u001b[0m \u001b[0m__init__\u001b[0m\u001b[0;34m(\u001b[0m\u001b[0mself\u001b[0m\u001b[0;34m,\u001b[0m \u001b[0;34m*\u001b[0m\u001b[0margs\u001b[0m\u001b[0;34m,\u001b[0m \u001b[0;34m**\u001b[0m\u001b[0mkwargs\u001b[0m\u001b[0;34m)\u001b[0m\u001b[0;34m:\u001b[0m\u001b[0;34m\u001b[0m\u001b[0;34m\u001b[0m\u001b[0m\n\u001b[1;32m     43\u001b[0m         \u001b[0;32massert\u001b[0m \u001b[0m_HAS_FFMPEG\u001b[0m\u001b[0;34m,\u001b[0m \u001b[0;34m\"Cannot find installation of real FFmpeg (which comes with ffprobe).\"\u001b[0m\u001b[0;34m\u001b[0m\u001b[0;34m\u001b[0m\u001b[0m\n\u001b[0;32m---> 44\u001b[0;31m         \u001b[0msuper\u001b[0m\u001b[0;34m(\u001b[0m\u001b[0mFFmpegReader\u001b[0m\u001b[0;34m,\u001b[0m\u001b[0mself\u001b[0m\u001b[0;34m)\u001b[0m\u001b[0;34m.\u001b[0m\u001b[0m__init__\u001b[0m\u001b[0;34m(\u001b[0m\u001b[0;34m*\u001b[0m\u001b[0margs\u001b[0m\u001b[0;34m,\u001b[0m \u001b[0;34m**\u001b[0m\u001b[0mkwargs\u001b[0m\u001b[0;34m)\u001b[0m\u001b[0;34m\u001b[0m\u001b[0;34m\u001b[0m\u001b[0m\n\u001b[0m\u001b[1;32m     45\u001b[0m \u001b[0;34m\u001b[0m\u001b[0m\n\u001b[1;32m     46\u001b[0m     \u001b[0;32mdef\u001b[0m \u001b[0m_createProcess\u001b[0m\u001b[0;34m(\u001b[0m\u001b[0mself\u001b[0m\u001b[0;34m,\u001b[0m \u001b[0minputdict\u001b[0m\u001b[0;34m,\u001b[0m \u001b[0moutputdict\u001b[0m\u001b[0;34m,\u001b[0m \u001b[0mverbosity\u001b[0m\u001b[0;34m)\u001b[0m\u001b[0;34m:\u001b[0m\u001b[0;34m\u001b[0m\u001b[0;34m\u001b[0m\u001b[0m\n",
            "\u001b[0;32m/usr/local/lib/python3.7/dist-packages/skvideo/io/abstract.py\u001b[0m in \u001b[0;36m__init__\u001b[0;34m(self, filename, inputdict, outputdict, verbosity)\u001b[0m\n\u001b[1;32m     67\u001b[0m         \u001b[0;31m# General information\u001b[0m\u001b[0;34m\u001b[0m\u001b[0;34m\u001b[0m\u001b[0;34m\u001b[0m\u001b[0m\n\u001b[1;32m     68\u001b[0m         \u001b[0m_\u001b[0m\u001b[0;34m,\u001b[0m \u001b[0mself\u001b[0m\u001b[0;34m.\u001b[0m\u001b[0mextension\u001b[0m \u001b[0;34m=\u001b[0m \u001b[0mos\u001b[0m\u001b[0;34m.\u001b[0m\u001b[0mpath\u001b[0m\u001b[0;34m.\u001b[0m\u001b[0msplitext\u001b[0m\u001b[0;34m(\u001b[0m\u001b[0mfilename\u001b[0m\u001b[0;34m)\u001b[0m\u001b[0;34m\u001b[0m\u001b[0;34m\u001b[0m\u001b[0m\n\u001b[0;32m---> 69\u001b[0;31m         \u001b[0mself\u001b[0m\u001b[0;34m.\u001b[0m\u001b[0msize\u001b[0m \u001b[0;34m=\u001b[0m \u001b[0mos\u001b[0m\u001b[0;34m.\u001b[0m\u001b[0mpath\u001b[0m\u001b[0;34m.\u001b[0m\u001b[0mgetsize\u001b[0m\u001b[0;34m(\u001b[0m\u001b[0mfilename\u001b[0m\u001b[0;34m)\u001b[0m\u001b[0;34m\u001b[0m\u001b[0;34m\u001b[0m\u001b[0m\n\u001b[0m\u001b[1;32m     70\u001b[0m         \u001b[0mself\u001b[0m\u001b[0;34m.\u001b[0m\u001b[0mprobeInfo\u001b[0m \u001b[0;34m=\u001b[0m \u001b[0mself\u001b[0m\u001b[0;34m.\u001b[0m\u001b[0m_probe\u001b[0m\u001b[0;34m(\u001b[0m\u001b[0;34m)\u001b[0m\u001b[0;34m\u001b[0m\u001b[0;34m\u001b[0m\u001b[0m\n\u001b[1;32m     71\u001b[0m \u001b[0;34m\u001b[0m\u001b[0m\n",
            "\u001b[0;32m/usr/lib/python3.7/genericpath.py\u001b[0m in \u001b[0;36mgetsize\u001b[0;34m(filename)\u001b[0m\n\u001b[1;32m     48\u001b[0m \u001b[0;32mdef\u001b[0m \u001b[0mgetsize\u001b[0m\u001b[0;34m(\u001b[0m\u001b[0mfilename\u001b[0m\u001b[0;34m)\u001b[0m\u001b[0;34m:\u001b[0m\u001b[0;34m\u001b[0m\u001b[0;34m\u001b[0m\u001b[0m\n\u001b[1;32m     49\u001b[0m     \u001b[0;34m\"\"\"Return the size of a file, reported by os.stat().\"\"\"\u001b[0m\u001b[0;34m\u001b[0m\u001b[0;34m\u001b[0m\u001b[0m\n\u001b[0;32m---> 50\u001b[0;31m     \u001b[0;32mreturn\u001b[0m \u001b[0mos\u001b[0m\u001b[0;34m.\u001b[0m\u001b[0mstat\u001b[0m\u001b[0;34m(\u001b[0m\u001b[0mfilename\u001b[0m\u001b[0;34m)\u001b[0m\u001b[0;34m.\u001b[0m\u001b[0mst_size\u001b[0m\u001b[0;34m\u001b[0m\u001b[0;34m\u001b[0m\u001b[0m\n\u001b[0m\u001b[1;32m     51\u001b[0m \u001b[0;34m\u001b[0m\u001b[0m\n\u001b[1;32m     52\u001b[0m \u001b[0;34m\u001b[0m\u001b[0m\n",
            "\u001b[0;31mFileNotFoundError\u001b[0m: [Errno 2] No such file or directory: './segmentation_video.mp4'"
          ]
        }
      ]
    },
    {
      "cell_type": "code",
      "source": [
        "    #FOR t=0\n",
        "    \n",
        "    f,ax = plt.subplots(1,5, figsize=(15,7))\n",
        "    ax[0].imshow(IMG, cmap='Spectral')\n",
        "    ax[0].set_title('origninal')\n",
        "    ax[1].imshow(WSM, cmap='Greys_r')\n",
        "    ax[1].set_title('Mask')\n",
        "    ax[2].imshow(third, cmap='Greys')\n",
        "    ax[2].set_title('Distance Transform')\n",
        "    ax[3].imshow(third, cmap='Greys')\n",
        "    ax[3].scatter(four_x,four_y,c='r')\n",
        "    ax[3].set_title('Local Maxima in Dist. Transform')\n",
        "    ax[4].imshow(LABELS, cmap='Spectral')\n",
        "    ax[4].set_title('Masks with Labels')\n",
        "    f.tight_layout() "
      ],
      "metadata": {
        "id": "32WjBgBPMGn-"
      },
      "execution_count": null,
      "outputs": []
    },
    {
      "cell_type": "code",
      "source": [
        ""
      ],
      "metadata": {
        "id": "__UnVJIzJsJG"
      },
      "execution_count": null,
      "outputs": []
    }
  ]
}